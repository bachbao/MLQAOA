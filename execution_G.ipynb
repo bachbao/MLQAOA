{
 "cells": [
  {
   "cell_type": "code",
   "execution_count": 1,
   "id": "95c2e21c-db71-4217-8331-1d579321c91a",
   "metadata": {
    "tags": []
   },
   "outputs": [
    {
     "data": {
      "text/html": [
       "\n",
       "\t\t\t<script type=\"text/javascript\">\n",
       "\t\t\t<!--\n",
       "\t\t\t\t\n",
       "\t\t\t{\n",
       "\t\t\t\tvar element = document.getElementById('NetworKit_script');\n",
       "\t\t\t\tif (element) {\n",
       "\t\t\t\t\telement.parentNode.removeChild(element);\n",
       "\t\t\t\t}\n",
       "\t\t\t\telement = document.createElement('script');\n",
       "\t\t\t\telement.type = 'text/javascript';\n",
       "\t\t\t\telement.innerHTML = 'function NetworKit_pageEmbed(id) { var i, j; var elements; elements = document.getElementById(id).getElementsByClassName(\"Plot\"); for (i=0; i<elements.length; i++) { elements[i].id = id + \"_Plot_\" + i; var data = elements[i].getAttribute(\"data-image\").split(\"|\"); elements[i].removeAttribute(\"data-image\"); var content = \"<div class=\\\\\"Image\\\\\" id=\\\\\"\" + elements[i].id + \"_Image\\\\\" />\"; elements[i].innerHTML = content; elements[i].setAttribute(\"data-image-index\", 0); elements[i].setAttribute(\"data-image-length\", data.length); for (j=0; j<data.length; j++) { elements[i].setAttribute(\"data-image-\" + j, data[j]); } NetworKit_plotUpdate(elements[i]); elements[i].onclick = function (e) { NetworKit_overlayShow((e.target) ? e.target : e.srcElement); } } elements = document.getElementById(id).getElementsByClassName(\"HeatCell\"); for (i=0; i<elements.length; i++) { var data = parseFloat(elements[i].getAttribute(\"data-heat\")); var color = \"#00FF00\"; if (data <= 1 && data > 0) { color = \"hsla(0, 100%, 75%, \" + (data) + \")\"; } else if (data <= 0 && data >= -1) { color = \"hsla(240, 100%, 75%, \" + (-data) + \")\"; } elements[i].style.backgroundColor = color; } elements = document.getElementById(id).getElementsByClassName(\"Details\"); for (i=0; i<elements.length; i++) { elements[i].setAttribute(\"data-title\", \"-\"); NetworKit_toggleDetails(elements[i]); elements[i].onclick = function (e) { NetworKit_toggleDetails((e.target) ? e.target : e.srcElement); } } elements = document.getElementById(id).getElementsByClassName(\"MathValue\"); for (i=elements.length-1; i>=0; i--) { value = elements[i].innerHTML.trim(); if (value === \"nan\") { elements[i].parentNode.innerHTML = \"\" } } elements = document.getElementById(id).getElementsByClassName(\"SubCategory\"); for (i=elements.length-1; i>=0; i--) { value = elements[i].innerHTML.trim(); if (value === \"\") { elements[i].parentNode.removeChild(elements[i]) } } elements = document.getElementById(id).getElementsByClassName(\"Category\"); for (i=elements.length-1; i>=0; i--) { value = elements[i].innerHTML.trim(); if (value === \"\") { elements[i].parentNode.removeChild(elements[i]) } } var isFirefox = false; try { isFirefox = typeof InstallTrigger !== \"undefined\"; } catch (e) {} if (!isFirefox) { alert(\"Currently the function\\'s output is only fully supported by Firefox.\"); } } function NetworKit_plotUpdate(source) { var index = source.getAttribute(\"data-image-index\"); var data = source.getAttribute(\"data-image-\" + index); var image = document.getElementById(source.id + \"_Image\"); image.style.backgroundImage = \"url(\" + data + \")\"; } function NetworKit_showElement(id, show) { var element = document.getElementById(id); element.style.display = (show) ? \"block\" : \"none\"; } function NetworKit_overlayShow(source) { NetworKit_overlayUpdate(source); NetworKit_showElement(\"NetworKit_Overlay\", true); } function NetworKit_overlayUpdate(source) { document.getElementById(\"NetworKit_Overlay_Title\").innerHTML = source.title; var index = source.getAttribute(\"data-image-index\"); var data = source.getAttribute(\"data-image-\" + index); var image = document.getElementById(\"NetworKit_Overlay_Image\"); image.setAttribute(\"data-id\", source.id); image.style.backgroundImage = \"url(\" + data + \")\"; var link = document.getElementById(\"NetworKit_Overlay_Toolbar_Bottom_Save\"); link.href = data; link.download = source.title + \".svg\"; } function NetworKit_overlayImageShift(delta) { var image = document.getElementById(\"NetworKit_Overlay_Image\"); var source = document.getElementById(image.getAttribute(\"data-id\")); var index = parseInt(source.getAttribute(\"data-image-index\")); var length = parseInt(source.getAttribute(\"data-image-length\")); var index = (index+delta) % length; if (index < 0) { index = length + index; } source.setAttribute(\"data-image-index\", index); NetworKit_overlayUpdate(source); } function NetworKit_toggleDetails(source) { var childs = source.children; var show = false; if (source.getAttribute(\"data-title\") == \"-\") { source.setAttribute(\"data-title\", \"+\"); show = false; } else { source.setAttribute(\"data-title\", \"-\"); show = true; } for (i=0; i<childs.length; i++) { if (show) { childs[i].style.display = \"block\"; } else { childs[i].style.display = \"none\"; } } }';\n",
       "\t\t\t\telement.setAttribute('id', 'NetworKit_script');\n",
       "\t\t\t\tdocument.head.appendChild(element);\n",
       "\t\t\t}\n",
       "\t\t\n",
       "\t\t\t\t\n",
       "\t\t\t{\n",
       "\t\t\t\tvar element = document.getElementById('NetworKit_style');\n",
       "\t\t\t\tif (element) {\n",
       "\t\t\t\t\telement.parentNode.removeChild(element);\n",
       "\t\t\t\t}\n",
       "\t\t\t\telement = document.createElement('style');\n",
       "\t\t\t\telement.type = 'text/css';\n",
       "\t\t\t\telement.innerHTML = '.NetworKit_Page { font-family: Arial, Helvetica, sans-serif; font-size: 14px; } .NetworKit_Page .Value:before { font-family: Arial, Helvetica, sans-serif; font-size: 1.05em; content: attr(data-title) \":\"; margin-left: -2.5em; padding-right: 0.5em; } .NetworKit_Page .Details .Value:before { display: block; } .NetworKit_Page .Value { font-family: monospace; white-space: pre; padding-left: 2.5em; white-space: -moz-pre-wrap !important; white-space: -pre-wrap; white-space: -o-pre-wrap; white-space: pre-wrap; word-wrap: break-word; tab-size: 4; -moz-tab-size: 4; } .NetworKit_Page .Category { clear: both; padding-left: 1em; margin-bottom: 1.5em; } .NetworKit_Page .Category:before { content: attr(data-title); font-size: 1.75em; display: block; margin-left: -0.8em; margin-bottom: 0.5em; } .NetworKit_Page .SubCategory { margin-bottom: 1.5em; padding-left: 1em; } .NetworKit_Page .SubCategory:before { font-size: 1.6em; display: block; margin-left: -0.8em; margin-bottom: 0.5em; } .NetworKit_Page .SubCategory[data-title]:before { content: attr(data-title); } .NetworKit_Page .Block { display: block; } .NetworKit_Page .Block:after { content: \".\"; visibility: hidden; display: block; height: 0; clear: both; } .NetworKit_Page .Block .Thumbnail_Overview, .NetworKit_Page .Block .Thumbnail_ScatterPlot { width: 260px; float: left; } .NetworKit_Page .Block .Thumbnail_Overview img, .NetworKit_Page .Block .Thumbnail_ScatterPlot img { width: 260px; } .NetworKit_Page .Block .Thumbnail_Overview:before, .NetworKit_Page .Block .Thumbnail_ScatterPlot:before { display: block; text-align: center; font-weight: bold; } .NetworKit_Page .Block .Thumbnail_Overview:before { content: attr(data-title); } .NetworKit_Page .HeatCell { font-family: \"Courier New\", Courier, monospace; cursor: pointer; } .NetworKit_Page .HeatCell, .NetworKit_Page .HeatCellName { display: inline; padding: 0.1em; margin-right: 2px; background-color: #FFFFFF } .NetworKit_Page .HeatCellName { margin-left: 0.25em; } .NetworKit_Page .HeatCell:before { content: attr(data-heat); display: inline-block; color: #000000; width: 4em; text-align: center; } .NetworKit_Page .Measure { clear: both; } .NetworKit_Page .Measure .Details { cursor: pointer; } .NetworKit_Page .Measure .Details:before { content: \"[\" attr(data-title) \"]\"; display: block; } .NetworKit_Page .Measure .Details .Value { border-left: 1px dotted black; margin-left: 0.4em; padding-left: 3.5em; pointer-events: none; } .NetworKit_Page .Measure .Details .Spacer:before { content: \".\"; opacity: 0.0; pointer-events: none; } .NetworKit_Page .Measure .Plot { width: 440px; height: 440px; cursor: pointer; float: left; margin-left: -0.9em; margin-right: 20px; } .NetworKit_Page .Measure .Plot .Image { background-repeat: no-repeat; background-position: center center; background-size: contain; height: 100%; pointer-events: none; } .NetworKit_Page .Measure .Stat { width: 500px; float: left; } .NetworKit_Page .Measure .Stat .Group { padding-left: 1.25em; margin-bottom: 0.75em; } .NetworKit_Page .Measure .Stat .Group .Title { font-size: 1.1em; display: block; margin-bottom: 0.3em; margin-left: -0.75em; border-right-style: dotted; border-right-width: 1px; border-bottom-style: dotted; border-bottom-width: 1px; background-color: #D0D0D0; padding-left: 0.2em; } .NetworKit_Page .Measure .Stat .Group .List { -webkit-column-count: 3; -moz-column-count: 3; column-count: 3; } .NetworKit_Page .Measure .Stat .Group .List .Entry { position: relative; line-height: 1.75em; } .NetworKit_Page .Measure .Stat .Group .List .Entry[data-tooltip]:before { position: absolute; left: 0; top: -40px; background-color: #808080; color: #ffffff; height: 30px; line-height: 30px; border-radius: 5px; padding: 0 15px; content: attr(data-tooltip); white-space: nowrap; display: none; } .NetworKit_Page .Measure .Stat .Group .List .Entry[data-tooltip]:after { position: absolute; left: 15px; top: -10px; border-top: 7px solid #808080; border-left: 7px solid transparent; border-right: 7px solid transparent; content: \"\"; display: none; } .NetworKit_Page .Measure .Stat .Group .List .Entry[data-tooltip]:hover:after, .NetworKit_Page .Measure .Stat .Group .List .Entry[data-tooltip]:hover:before { display: block; } .NetworKit_Page .Measure .Stat .Group .List .Entry .MathValue { font-family: \"Courier New\", Courier, monospace; } .NetworKit_Page .Measure:after { content: \".\"; visibility: hidden; display: block; height: 0; clear: both; } .NetworKit_Page .PartitionPie { clear: both; } .NetworKit_Page .PartitionPie img { width: 600px; } #NetworKit_Overlay { left: 0px; top: 0px; display: none; position: absolute; width: 100%; height: 100%; background-color: rgba(0,0,0,0.6); z-index: 1000; } #NetworKit_Overlay_Title { position: absolute; color: white; transform: rotate(-90deg); width: 32em; height: 32em; padding-right: 0.5em; padding-top: 0.5em; text-align: right; font-size: 40px; } #NetworKit_Overlay .button { background: white; cursor: pointer; } #NetworKit_Overlay .button:before { size: 13px; display: inline-block; text-align: center; margin-top: 0.5em; margin-bottom: 0.5em; width: 1.5em; height: 1.5em; } #NetworKit_Overlay .icon-close:before { content: \"X\"; } #NetworKit_Overlay .icon-previous:before { content: \"P\"; } #NetworKit_Overlay .icon-next:before { content: \"N\"; } #NetworKit_Overlay .icon-save:before { content: \"S\"; } #NetworKit_Overlay_Toolbar_Top, #NetworKit_Overlay_Toolbar_Bottom { position: absolute; width: 40px; right: 13px; text-align: right; z-index: 1100; } #NetworKit_Overlay_Toolbar_Top { top: 0.5em; } #NetworKit_Overlay_Toolbar_Bottom { Bottom: 0.5em; } #NetworKit_Overlay_ImageContainer { position: absolute; top: 5%; left: 5%; height: 90%; width: 90%; background-repeat: no-repeat; background-position: center center; background-size: contain; } #NetworKit_Overlay_Image { height: 100%; width: 100%; background-repeat: no-repeat; background-position: center center; background-size: contain; }';\n",
       "\t\t\t\telement.setAttribute('id', 'NetworKit_style');\n",
       "\t\t\t\tdocument.head.appendChild(element);\n",
       "\t\t\t}\n",
       "\t\t\n",
       "\t\t\t\t\n",
       "\t\t\t{\n",
       "\t\t\t\tvar element = document.getElementById('NetworKit_Overlay');\n",
       "\t\t\t\tif (element) {\n",
       "\t\t\t\t\telement.parentNode.removeChild(element);\n",
       "\t\t\t\t}\n",
       "\t\t\t\telement = document.createElement('div');\n",
       "\t\t\t\telement.innerHTML = '<div id=\"NetworKit_Overlay_Toolbar_Top\"><div class=\"button icon-close\" id=\"NetworKit_Overlay_Close\" /></div><div id=\"NetworKit_Overlay_Title\" /> <div id=\"NetworKit_Overlay_ImageContainer\"> <div id=\"NetworKit_Overlay_Image\" /> </div> <div id=\"NetworKit_Overlay_Toolbar_Bottom\"> <div class=\"button icon-previous\" onclick=\"NetworKit_overlayImageShift(-1)\" /> <div class=\"button icon-next\" onclick=\"NetworKit_overlayImageShift(1)\" /> <a id=\"NetworKit_Overlay_Toolbar_Bottom_Save\"><div class=\"button icon-save\" /></a> </div>';\n",
       "\t\t\t\telement.setAttribute('id', 'NetworKit_Overlay');\n",
       "\t\t\t\tdocument.body.appendChild(element);\n",
       "\t\t\t\tdocument.getElementById('NetworKit_Overlay_Close').onclick = function (e) {\n",
       "\t\t\t\t\tdocument.getElementById('NetworKit_Overlay').style.display = 'none';\n",
       "\t\t\t\t}\n",
       "\t\t\t}\n",
       "\t\t\n",
       "\t\t\t-->\n",
       "\t\t\t</script>\n",
       "\t\t"
      ]
     },
     "metadata": {},
     "output_type": "display_data"
    },
    {
     "name": "stdout",
     "output_type": "stream",
     "text": [
      "Completed\n",
      "Loading params...\n",
      "Completed\n",
      "Completed\n"
     ]
    }
   ],
   "source": [
    "import os\n",
    "import time \n",
    "from maxcut import MaxcutSolver"
   ]
  },
  {
   "cell_type": "code",
   "execution_count": 2,
   "id": "bb042564-8937-4a01-818b-bd4683ce2ff8",
   "metadata": {
    "tags": []
   },
   "outputs": [],
   "source": [
    "import pickle\n",
    "from joblib import Parallel, delayed"
   ]
  },
  {
   "cell_type": "code",
   "execution_count": 3,
   "id": "c47d59c7-c542-4832-bc0d-c43f1beb3f32",
   "metadata": {
    "tags": []
   },
   "outputs": [],
   "source": [
    "karloff_dict = ['Karloff_10_5_1.txt', 'Karloff_10_5_2.txt', 'Karloff_12_6_1.txt', 'Karloff_12_6_2.txt'\n",
    " , 'Karloff_14_7_1.txt', 'Karloff_14_7_2.txt', ]"
   ]
  },
  {
   "cell_type": "code",
   "execution_count": 4,
   "id": "f53c4dc6-26fb-4ad4-b259-b887c215ffd4",
   "metadata": {
    "tags": []
   },
   "outputs": [],
   "source": [
    "G_list = [\"G1\", \"G2\", \"G3\", \"G4\", \"G5\", \"G14\", \"G15\", \"G22\"]"
   ]
  },
  {
   "cell_type": "code",
   "execution_count": 5,
   "id": "8f961e9b-82f7-442e-84d9-76d91a9be4c4",
   "metadata": {
    "tags": []
   },
   "outputs": [],
   "source": [
    "new_g_list = [\"soc-brightkite\", \"soc-buzznet\", \"soc-epinions\", \"soc-slashdot\", \"3dtube\", \"copter2\", \n",
    "              \"aug2dc\", \"aug3d\", \"big_dual\", \"biplane-9\", \"shock-9\", \"rajat06\", \"rajat07\", \"rajat08\",\n",
    "              \"rajat09\", \"rajat10\", \"c-59\", \"dixmaanl\", \"dtoc\", \"ex3sta1\", \"c-62\", \"c-64\", \"c-68\", \"c-71\", \"c-72\"]"
   ]
  },
  {
   "cell_type": "code",
   "execution_count": 6,
   "id": "47156128-ac06-4657-8e82-218188853827",
   "metadata": {
    "tags": []
   },
   "outputs": [],
   "source": [
    "def approx_ratio_listing(g):\n",
    "    #g = f'experiment_graphs/{k}_nodes_graph_configuration_{i}.txt'\n",
    "    sp = 20\n",
    "    S = 'qaoa'\n",
    "    sparse = 0\n",
    "    M = MaxcutSolver(fname=g, sp=sp, solver=S, ratio = sparse)\n",
    "    objective, duration = M.solve()\n",
    "    return (objective, duration)"
   ]
  },
  {
   "cell_type": "code",
   "execution_count": 7,
   "id": "e9267e9e-246b-497a-b937-be0ba877f135",
   "metadata": {
    "tags": []
   },
   "outputs": [
    {
     "name": "stdout",
     "output_type": "stream",
     "text": [
      "NetworKit.Graph(n=252, m=3150)\n",
      "11 iterations until embedding convergence\n",
      "NetworKit.Graph(n=126, m=2124)\n",
      "31 iterations until embedding convergence\n",
      "NetworKit.Graph(n=63, m=1066)\n",
      "29 iterations until embedding convergence\n",
      "NetworKit.Graph(n=32, m=381)\n",
      "15 iterations until embedding convergence\n",
      "NetworKit.Graph(n=16, m=116)\n",
      "1.9810783043503761 sec coarsening\n",
      "NetworKit.Graph(n=16, m=116)\n",
      "4.841020580381155 seconds solving using mqlib\n",
      "With objective 2316.0\n",
      "Number of hierarchy level:  4\n",
      "Level 1 Nodes: 32 Edges: 381\n",
      "Start refinement\n",
      "Start running QAOA\n",
      "Gamma:  [-3.08614518 -2.7876497   0.54468055]\n",
      "Beta:  [ 3.51436871 -0.43682996  1.25072123]\n",
      "Actual depth of circuit:  1067\n",
      "25.979721438139677 seconds solving using graph-learning qaoa\n",
      "Start running QAOA\n",
      "Gamma:  [-3.08614518 -2.7876497   0.54468055]\n",
      "Beta:  [ 3.51436871 -0.43682996  1.25072123]\n",
      "Actual depth of circuit:  986\n",
      "34.57643519714475 seconds solving using graph-learning qaoa\n",
      "Start running QAOA\n",
      "Gamma:  [-3.08614518 -2.7876497   0.54468055]\n",
      "Beta:  [ 3.51436871 -0.43682996  1.25072123]\n",
      "Actual depth of circuit:  1031\n",
      "19.607408355921507 seconds solving using graph-learning qaoa\n",
      "Objective: 2316.0\n",
      "Level 2 Nodes: 63 Edges: 1066\n",
      "Start refinement\n",
      "Start running QAOA\n",
      "Gamma:  [-1.97455318  1.77563741  0.80917043]\n",
      "Beta:  [ 0.11564575 -2.67573281  1.32534812]\n",
      "Actual depth of circuit:  755\n",
      "23.222495175898075 seconds solving using graph-learning qaoa\n",
      "Start running QAOA\n",
      "Gamma:  [-1.97455318  1.77563741  0.80917043]\n",
      "Beta:  [ 0.11564575 -2.67573281  1.32534812]\n",
      "Actual depth of circuit:  617\n",
      "27.139026254415512 seconds solving using graph-learning qaoa\n",
      "Start running QAOA\n",
      "Gamma:  [-1.97455318  1.77563741  0.80917043]\n",
      "Beta:  [ 0.11564575 -2.67573281  1.32534812]\n",
      "Actual depth of circuit:  779\n",
      "26.777276050299406 seconds solving using graph-learning qaoa\n",
      "Objective: 2316.0\n",
      "Level 3 Nodes: 126 Edges: 2124\n",
      "Start refinement\n",
      "Start running QAOA\n",
      "Gamma:  [-0.04283916 -2.3589707  -0.80921983]\n",
      "Beta:  [ 0.71590334  1.09977858 -0.01017227]\n",
      "Actual depth of circuit:  518\n",
      "26.698517490178347 seconds solving using graph-learning qaoa\n",
      "Start running QAOA\n",
      "Gamma:  [-0.04283916 -2.3589707  -0.80921983]\n",
      "Beta:  [ 0.71590334  1.09977858 -0.01017227]\n",
      "Actual depth of circuit:  473\n",
      "22.774752534925938 seconds solving using graph-learning qaoa\n",
      "Start running QAOA\n",
      "Gamma:  [2.69215108 1.25970732 2.32909081]\n",
      "Beta:  [-1.66687027  3.29567693 -0.31920928]\n",
      "Actual depth of circuit:  455\n",
      "22.831064000725746 seconds solving using graph-learning qaoa\n",
      "Objective: 2316.0\n",
      "Level 4 Nodes: 252 Edges: 3150\n",
      "Start refinement\n",
      "NetworKit.Graph(n=22, m=73)\n",
      "0.0044541023671627045 seconds solving using mqlib\n",
      "With objective 3052.0\n",
      "NetworKit.Graph(n=22, m=61)\n",
      "0.003861401230096817 seconds solving using mqlib\n",
      "With objective 3024.0\n",
      "NetworKit.Graph(n=22, m=62)\n",
      "0.004220150411128998 seconds solving using mqlib\n",
      "With objective 3032.0\n",
      "NetworKit.Graph(n=22, m=71)\n",
      "0.003998760133981705 seconds solving using mqlib\n",
      "With objective 3053.0\n",
      "NetworKit.Graph(n=22, m=62)\n",
      "0.0038651786744594574 seconds solving using mqlib\n",
      "With objective 3042.0\n",
      "NetworKit.Graph(n=22, m=66)\n",
      "0.0039289407432079315 seconds solving using mqlib\n",
      "With objective 3037.0\n",
      "NetworKit.Graph(n=22, m=67)\n",
      "0.003674391657114029 seconds solving using mqlib\n",
      "With objective 3056.0\n",
      "NetworKit.Graph(n=22, m=58)\n",
      "0.0037822239100933075 seconds solving using mqlib\n",
      "With objective 3035.0\n",
      "NetworKit.Graph(n=22, m=61)\n",
      "0.00393928587436676 seconds solving using mqlib\n",
      "With objective 3036.0\n",
      "Objective: 2447.0\n",
      "Final objective:  2447.0\n",
      "Final self objective: 2447.0\n"
     ]
    },
    {
     "data": {
      "text/plain": [
       "(2447.0, 236.83364364132285)"
      ]
     },
     "execution_count": 7,
     "metadata": {},
     "output_type": "execute_result"
    }
   ],
   "source": [
    "approx_ratio_listing(karloff_dict[0])"
   ]
  },
  {
   "cell_type": "code",
   "execution_count": 7,
   "id": "6447d694-df21-40ac-9b89-ecb7fcab636a",
   "metadata": {
    "tags": []
   },
   "outputs": [],
   "source": [
    "# approx_ratio_listing('Karloff_10_5_1.txt')"
   ]
  },
  {
   "cell_type": "code",
   "execution_count": null,
   "id": "71e86587-2efa-4fe0-94ff-225413fa10ac",
   "metadata": {},
   "outputs": [],
   "source": [
    "for ite in range(10, 20):\n",
    "    objective_lst = Parallel(n_jobs=len(G_list))(delayed(approx_ratio_listing)(i) for i in G_list)\n",
    "    with open(f\"results/qiro_Gset_extended_result_{ite}.pkl\", \"wb\") as approx_file:\n",
    "        pickle.dump(objective_lst, approx_file, protocol=pickle.HIGHEST_PROTOCOL)"
   ]
  },
  {
   "cell_type": "code",
   "execution_count": 6,
   "id": "a18eed6e-d1fb-4fc8-a485-c62ab23a8ddc",
   "metadata": {},
   "outputs": [
    {
     "name": "stdout",
     "output_type": "stream",
     "text": [
      "NetworKit.Graph(n=252, m=3150)\n",
      "12 iterations until embedding convergence\n",
      "NetworKit.Graph(n=126, m=2010)\n",
      "22 iterations until embedding convergence\n",
      "NetworKit.Graph(n=63, m=984)\n",
      "9 iterations until embedding convergence\n",
      "NetworKit.Graph(n=32, m=380)\n",
      "31 iterations until embedding convergence\n",
      "NetworKit.Graph(n=16, m=116)\n",
      "1.5660043805837631 sec coarsening\n",
      "NetworKit.Graph(n=16, m=116)\n",
      "4.835433837026358 seconds solving using mqlib\n",
      "With objective 2434.0\n",
      "Number of hierarchy level:  4\n",
      "Level 1 Nodes: 32 Edges: 380\n",
      "Start refinement\n",
      "Start running QAOA\n",
      "14.365825615823269 seconds solving using qaoa using QIRO\n",
      "Start running QAOA\n",
      "14.10300538316369 seconds solving using qaoa using QIRO\n",
      "Start running QAOA\n",
      "13.96883536502719 seconds solving using qaoa using QIRO\n",
      "Objective: 2434.0\n",
      "Level 2 Nodes: 63 Edges: 984\n",
      "Start refinement\n",
      "Start running QAOA\n",
      "10.520340885967016 seconds solving using qaoa using QIRO\n",
      "Start running QAOA\n",
      "10.547318898141384 seconds solving using qaoa using QIRO\n",
      "Start running QAOA\n",
      "11.40636495873332 seconds solving using qaoa using QIRO\n",
      "Start running QAOA\n",
      "11.010610096156597 seconds solving using qaoa using QIRO\n",
      "Objective: 2490.0\n",
      "Level 3 Nodes: 126 Edges: 2010\n",
      "Start refinement\n",
      "Start running QAOA\n",
      "5.872002258896828 seconds solving using qaoa using QIRO\n",
      "Start running QAOA\n",
      "7.463210370391607 seconds solving using qaoa using QIRO\n",
      "Start running QAOA\n",
      "8.111615527421236 seconds solving using qaoa using QIRO\n",
      "Start running QAOA\n",
      "8.925537802278996 seconds solving using qaoa using QIRO\n",
      "Objective: 2520.0\n",
      "Level 4 Nodes: 252 Edges: 3150\n",
      "Start refinement\n",
      "NetworKit.Graph(n=22, m=41)\n",
      "0.025137946009635925 seconds solving using mqlib\n",
      "With objective 3050.0\n",
      "NetworKit.Graph(n=22, m=56)\n",
      "0.0036719031631946564 seconds solving using mqlib\n",
      "With objective 3054.0\n",
      "NetworKit.Graph(n=22, m=60)\n",
      "0.003789227455854416 seconds solving using mqlib\n",
      "With objective 3053.0\n",
      "Objective: 2520.0\n",
      "Final objective:  2520.0\n",
      "Final self objective: 2520.0\n"
     ]
    },
    {
     "data": {
      "text/plain": [
       "(2520.0, 122.96705917268991)"
      ]
     },
     "execution_count": 6,
     "metadata": {},
     "output_type": "execute_result"
    }
   ],
   "source": [
    "approx_ratio_listing(karloff_dict[0])"
   ]
  },
  {
   "cell_type": "code",
   "execution_count": null,
   "id": "0cdf2a18-4632-4be7-a8dc-f18a1944e8d7",
   "metadata": {},
   "outputs": [],
   "source": []
  }
 ],
 "metadata": {
  "kernelspec": {
   "display_name": "Python [conda env:ML_maxcut]",
   "language": "python",
   "name": "conda-env-ML_maxcut-py"
  },
  "language_info": {
   "codemirror_mode": {
    "name": "ipython",
    "version": 3
   },
   "file_extension": ".py",
   "mimetype": "text/x-python",
   "name": "python",
   "nbconvert_exporter": "python",
   "pygments_lexer": "ipython3",
   "version": "3.11.5"
  }
 },
 "nbformat": 4,
 "nbformat_minor": 5
}
