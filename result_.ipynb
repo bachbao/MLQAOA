{
 "cells": [
  {
   "cell_type": "code",
   "execution_count": 4,
   "id": "6801fde4-0a32-4b81-83dd-6096eedfa779",
   "metadata": {
    "tags": []
   },
   "outputs": [],
   "source": [
    "import pickle\n",
    "import numpy as np"
   ]
  },
  {
   "cell_type": "code",
   "execution_count": 6,
   "id": "e707aa5b-5117-4d59-b01d-cd5564a6342c",
   "metadata": {
    "tags": []
   },
   "outputs": [],
   "source": [
    "G_list = [\"G1\", \"G2\", \"G3\", \"G4\", \"G5\"]\n",
    "arr = []\n",
    "for i in range(10):\n",
    "    with open(f'results/qiro_Gset_result_{i}.pkl', 'rb') as handle:\n",
    "        arr.append(pickle.load(handle))\n",
    "G_result_dict = {}\n",
    "arr = np.array(arr)\n",
    "for i in range(len(G_list)):\n",
    "    G_result_dict[G_list[i]] = np.mean(arr[:,i][:,0])#arr[:,i][np.argmax(arr[:,i][:,0])]"
   ]
  },
  {
   "cell_type": "code",
   "execution_count": 7,
   "id": "0c9e83cf-cb68-4f81-8527-adfa7c1fd964",
   "metadata": {
    "tags": []
   },
   "outputs": [
    {
     "data": {
      "text/plain": [
       "{'G1': 11491.5, 'G2': 11488.2, 'G3': 11483.3, 'G4': 11530.8, 'G5': 11498.1}"
      ]
     },
     "execution_count": 7,
     "metadata": {},
     "output_type": "execute_result"
    }
   ],
   "source": [
    "G_result_dict"
   ]
  },
  {
   "cell_type": "code",
   "execution_count": 9,
   "id": "453b6019-c600-4572-b192-a125ad4a0f1f",
   "metadata": {
    "tags": []
   },
   "outputs": [],
   "source": [
    "G_list = [\"G1\", \"G2\", \"G3\", \"G4\", \"G5\", \"G14\", \"G15\", \"G22\"]"
   ]
  },
  {
   "cell_type": "code",
   "execution_count": 10,
   "id": "6783f6cc-a502-4a4a-9e2d-238b63c02f50",
   "metadata": {
    "tags": []
   },
   "outputs": [],
   "source": [
    "arr = []\n",
    "for i in range(20):\n",
    "    with open(f'results/qiro_Gset_extended_result_{i}.pkl', 'rb') as handle:\n",
    "        arr.append(pickle.load(handle))\n",
    "G_result_dict = {}\n",
    "arr = np.array(arr)\n",
    "for i in range(len(G_list)):\n",
    "    G_result_dict[G_list[i]] = np.mean(arr[:,i][:,0])#arr[:,i][np.argmax(arr[:,i][:,0])]"
   ]
  },
  {
   "cell_type": "code",
   "execution_count": 11,
   "id": "1e9c7fe2-1687-415e-9a85-a523936758fc",
   "metadata": {
    "tags": []
   },
   "outputs": [
    {
     "data": {
      "text/plain": [
       "{'G1': 11472.8,\n",
       " 'G2': 11494.3,\n",
       " 'G3': 11499.75,\n",
       " 'G4': 11500.65,\n",
       " 'G5': 11498.75,\n",
       " 'G14': 3013.0,\n",
       " 'G15': 2998.45,\n",
       " 'G22': 13076.4}"
      ]
     },
     "execution_count": 11,
     "metadata": {},
     "output_type": "execute_result"
    }
   ],
   "source": [
    "G_result_dict"
   ]
  },
  {
   "cell_type": "code",
   "execution_count": 16,
   "id": "43c91c38-af78-4ae6-9abb-2ec0d0f3a846",
   "metadata": {
    "tags": []
   },
   "outputs": [
    {
     "data": {
      "text/plain": [
       "0.9886295245464707"
      ]
     },
     "execution_count": 16,
     "metadata": {},
     "output_type": "execute_result"
    }
   ],
   "source": [
    "11498.75/11631"
   ]
  },
  {
   "cell_type": "code",
   "execution_count": 9,
   "id": "9e05823a-af46-4049-be17-238490f6b172",
   "metadata": {
    "tags": []
   },
   "outputs": [],
   "source": [
    "exact_Gset = [11624, 11620, 11622, 11646, 11631] #Gset"
   ]
  },
  {
   "cell_type": "code",
   "execution_count": 10,
   "id": "737bce6c-7bff-4a3f-8aa7-9542be48b404",
   "metadata": {
    "tags": []
   },
   "outputs": [
    {
     "data": {
      "text/plain": [
       "0.9938956237640788"
      ]
     },
     "execution_count": 10,
     "metadata": {},
     "output_type": "execute_result"
    }
   ],
   "source": [
    "11560/11631"
   ]
  },
  {
   "cell_type": "code",
   "execution_count": 11,
   "id": "42941e43-4576-4791-8236-f1ee2491c1b6",
   "metadata": {},
   "outputs": [
    {
     "data": {
      "text/plain": [
       "11573"
      ]
     },
     "execution_count": 11,
     "metadata": {},
     "output_type": "execute_result"
    }
   ],
   "source": [
    "11573"
   ]
  },
  {
   "cell_type": "code",
   "execution_count": 12,
   "id": "b0169bbf-6224-42f3-b033-c20af260de19",
   "metadata": {
    "tags": []
   },
   "outputs": [
    {
     "data": {
      "text/plain": [
       "{'G1': array([11542.        ,   444.83942661]),\n",
       " 'G2': array([11536.        ,   368.16564053]),\n",
       " 'G3': array([11567.        ,   389.95033294]),\n",
       " 'G4': array([11563.        ,   449.65713958]),\n",
       " 'G5': array([11560.        ,   289.86681207]),\n",
       " 'G14': array([3026.       ,  206.2022537]),\n",
       " 'G15': array([3026.       ,  225.3239416]),\n",
       " 'G22': array([13174.        ,   374.94505228])}"
      ]
     },
     "execution_count": 12,
     "metadata": {},
     "output_type": "execute_result"
    }
   ],
   "source": [
    "G_result_dict"
   ]
  },
  {
   "cell_type": "code",
   "execution_count": 14,
   "id": "63e275dd-38cd-4c96-9ed0-03463cc494b2",
   "metadata": {
    "tags": []
   },
   "outputs": [
    {
     "ename": "IndexError",
     "evalue": "list index out of range",
     "output_type": "error",
     "traceback": [
      "\u001b[0;31m---------------------------------------------------------------------------\u001b[0m",
      "\u001b[0;31mIndexError\u001b[0m                                Traceback (most recent call last)",
      "Cell \u001b[0;32mIn[14], line 3\u001b[0m\n\u001b[1;32m      1\u001b[0m approx_QIRO_MLQAOA \u001b[38;5;241m=\u001b[39m []\n\u001b[1;32m      2\u001b[0m \u001b[38;5;28;01mfor\u001b[39;00m i \u001b[38;5;129;01min\u001b[39;00m \u001b[38;5;28mrange\u001b[39m(\u001b[38;5;28mlen\u001b[39m(G_list)):\n\u001b[0;32m----> 3\u001b[0m     approx_QIRO_MLQAOA\u001b[38;5;241m.\u001b[39mappend(G_result_dict[G_list[i]][\u001b[38;5;241m0\u001b[39m]\u001b[38;5;241m/\u001b[39mexact_Gset[i])\n",
      "\u001b[0;31mIndexError\u001b[0m: list index out of range"
     ]
    }
   ],
   "source": [
    "approx_QIRO_MLQAOA = []\n",
    "for i in range(len(G_list)):\n",
    "    approx_QIRO_MLQAOA.append(G_result_dict[G_list[i]][0]/exact_Gset[i])"
   ]
  },
  {
   "cell_type": "code",
   "execution_count": 24,
   "id": "b8ac0ad0-aaa9-4769-8807-d062b641ae74",
   "metadata": {
    "tags": []
   },
   "outputs": [
    {
     "data": {
      "text/plain": [
       "[0.9925154852030282,\n",
       " 0.9919104991394148,\n",
       " 0.9914816726897264,\n",
       " 0.9937317533917225,\n",
       " 0.9932078067234116]"
      ]
     },
     "execution_count": 24,
     "metadata": {},
     "output_type": "execute_result"
    }
   ],
   "source": [
    "approx_QIRO_MLQAOA"
   ]
  },
  {
   "cell_type": "code",
   "execution_count": 17,
   "id": "cb1d0b10-3792-4163-b717-a4eb3f3718d0",
   "metadata": {
    "tags": []
   },
   "outputs": [],
   "source": [
    "karloff_dict = ['Karloff_10_5_1.txt', 'Karloff_10_5_2.txt', 'Karloff_12_6_1.txt', 'Karloff_12_6_2.txt'\n",
    " , 'Karloff_14_7_1.txt', 'Karloff_14_7_2.txt', ]"
   ]
  },
  {
   "cell_type": "code",
   "execution_count": 18,
   "id": "ab5d0fba-f08f-4b52-b984-050e7d2f38c4",
   "metadata": {
    "tags": []
   },
   "outputs": [],
   "source": [
    "arr = []\n",
    "for i in range(20):\n",
    "    with open(f'results/qiro_karloff_result_{i}.pkl', 'rb') as handle:\n",
    "        arr.append(pickle.load(handle))\n",
    "karloff_result_dict = {}\n",
    "arr = np.array(arr)\n",
    "for i in range(len(karloff_dict)):\n",
    "    karloff_result_dict[karloff_dict[i]] = arr[:,i][np.argmax(arr[:,i][:,0])] #np.mean(arr[:,i][:,0])#"
   ]
  },
  {
   "cell_type": "code",
   "execution_count": 19,
   "id": "067b6eb5-28ea-4cdf-b39c-ab503d8b22a8",
   "metadata": {
    "tags": []
   },
   "outputs": [
    {
     "data": {
      "text/plain": [
       "{'Karloff_10_5_1.txt': array([2520.        ,  107.52401408]),\n",
       " 'Karloff_10_5_2.txt': array([7560.        ,  178.01771187]),\n",
       " 'Karloff_12_6_1.txt': array([13860.        ,   215.01154876]),\n",
       " 'Karloff_12_6_2.txt': array([69300.        ,   391.10033685]),\n",
       " 'Karloff_14_7_1.txt': array([72072.        ,   485.21252973]),\n",
       " 'Karloff_14_7_2.txt': array([540540.        ,    803.42304954])}"
      ]
     },
     "execution_count": 19,
     "metadata": {},
     "output_type": "execute_result"
    }
   ],
   "source": [
    "karloff_result_dict"
   ]
  },
  {
   "cell_type": "code",
   "execution_count": 27,
   "id": "7a032c05-abfe-467f-bec2-687794ce9a5e",
   "metadata": {
    "tags": []
   },
   "outputs": [],
   "source": [
    "exact_karloff = [2520, 7560, 13860.0, 69300, 72072, 540540] #Karloff"
   ]
  },
  {
   "cell_type": "code",
   "execution_count": 28,
   "id": "d91a7ab6-d6cf-46ac-89d7-eba6ce89cd2c",
   "metadata": {
    "tags": []
   },
   "outputs": [],
   "source": [
    "expected_approx_QIRO_MLQAOA = []\n",
    "for i in range(len(exact_karloff)):\n",
    "    expected_approx_QIRO_MLQAOA.append(karloff_result_dict[karloff_dict[i]]/exact_karloff[i])"
   ]
  },
  {
   "cell_type": "code",
   "execution_count": 29,
   "id": "7522f02a-7c06-4add-8769-3a58ad8451d5",
   "metadata": {
    "tags": []
   },
   "outputs": [
    {
     "data": {
      "text/plain": [
       "[0.9973214285714286,\n",
       " 0.9971296296296297,\n",
       " 0.9942207792207792,\n",
       " 0.994491341991342,\n",
       " 0.989080364080364,\n",
       " 0.9676615051615052]"
      ]
     },
     "execution_count": 29,
     "metadata": {},
     "output_type": "execute_result"
    }
   ],
   "source": [
    "expected_approx_QIRO_MLQAOA"
   ]
  },
  {
   "cell_type": "code",
   "execution_count": 5,
   "id": "98c9a473-061e-4213-8cf1-4e097cff8763",
   "metadata": {
    "tags": []
   },
   "outputs": [],
   "source": [
    "new_g_list = [\"soc-brightkite\", \"soc-buzznet\", \"soc-epinions\", \"soc-slashdot\", \"3dtube\", \"copter2\", \n",
    "              \"aug2dc\", \"aug3d\", \"big_dual\", \"biplane-9\", \"shock-9\", \"rajat06\", \"rajat07\", \"rajat08\",\n",
    "              \"rajat09\", \"rajat10\", \"c-59\", \"dixmaanl\", \"dtoc\", \"ex3sta1\", \"c-62\", \"c-64\", \"c-68\", \"c-71\", \"c-72\"]"
   ]
  },
  {
   "cell_type": "code",
   "execution_count": 6,
   "id": "61c248ed-e630-48e8-882c-d17c8d5f1b2c",
   "metadata": {
    "tags": []
   },
   "outputs": [],
   "source": [
    "new_list_ordering_nodes = ['soc-buzznet',\n",
    " 'c-72',\n",
    " 'c-71',\n",
    " 'soc-slashdot',\n",
    " 'c-68',\n",
    " 'dixmaanl',\n",
    " 'soc-brightkite',\n",
    " 'copter2',\n",
    " 'c-64',\n",
    " '3dtube',\n",
    " 'c-62',\n",
    " 'c-59',\n",
    " 'shock-9',\n",
    " 'big_dual',\n",
    " 'rajat10',\n",
    " 'aug2dc',\n",
    " 'soc-epinions',\n",
    " 'dtoc',\n",
    " 'rajat09',\n",
    " 'aug3d',\n",
    " 'biplane-9',\n",
    " 'rajat08',\n",
    " 'ex3sta1',\n",
    " 'rajat07',\n",
    " 'rajat06']"
   ]
  },
  {
   "cell_type": "code",
   "execution_count": 9,
   "id": "a0ef9549-ffb9-4bf5-b58e-dcad1d5f57fb",
   "metadata": {
    "tags": []
   },
   "outputs": [
    {
     "name": "stdout",
     "output_type": "stream",
     "text": [
      "2066885.0\n",
      "311590.0\n",
      "391333.0\n",
      "277959.0\n",
      "250547.0\n",
      "96659.0\n",
      "150183.0\n",
      "219216.0\n",
      "328471.0\n",
      "1036867.0\n",
      "258803.0\n",
      "219611.0\n",
      "67092.0\n",
      "41852.0\n",
      "38989.0\n",
      "38407.0\n",
      "69168.0\n",
      "34070.0\n",
      "31588.0\n",
      "34785.0\n",
      "39892.0\n",
      "24959.0\n",
      "181041.0\n",
      "19144.0\n",
      "14083.0\n"
     ]
    }
   ],
   "source": [
    "for i in new_list_ordering_nodes:\n",
    "    print(result_dict[i][0])"
   ]
  },
  {
   "cell_type": "code",
   "execution_count": 7,
   "id": "e27c74f6-2f88-4c11-9ab3-13b109819fff",
   "metadata": {
    "tags": []
   },
   "outputs": [],
   "source": [
    "arr = []\n",
    "for i in range(27):\n",
    "    if i == 9:\n",
    "        continue\n",
    "    with open(f'results/qiro_totalGlist_result_{i}.pkl', 'rb') as handle:\n",
    "        arr.append(pickle.load(handle))\n",
    "result_dict = {}\n",
    "arr = np.array(arr)\n",
    "for i in range(len(new_g_list)):\n",
    "    result_dict[new_g_list[i]] = arr[:,i][np.argmax(arr[:,i][:,0])]"
   ]
  },
  {
   "cell_type": "code",
   "execution_count": 8,
   "id": "c7d6b683-0dc9-449a-98d6-67e56d03d700",
   "metadata": {
    "tags": []
   },
   "outputs": [
    {
     "data": {
      "text/plain": [
       "{'soc-brightkite': array([150183.        ,    909.24241881]),\n",
       " 'soc-buzznet': array([2066885.        ,    3090.10784761]),\n",
       " 'soc-epinions': array([69168.        ,   800.84833976]),\n",
       " 'soc-slashdot': array([277959.        ,   1136.77626909]),\n",
       " '3dtube': array([1036867.        ,    2591.67164084]),\n",
       " 'copter2': array([219216.        ,   1341.03302194]),\n",
       " 'aug2dc': array([38407.        ,   432.96999488]),\n",
       " 'aug3d': array([34785.        ,   327.93206144]),\n",
       " 'big_dual': array([41852.        ,   470.65592344]),\n",
       " 'biplane-9': array([39892.        ,   516.29181773]),\n",
       " 'shock-9': array([67092.        ,   578.26196399]),\n",
       " 'rajat06': array([14083.       ,   358.9737546]),\n",
       " 'rajat07': array([19144.        ,   394.92327833]),\n",
       " 'rajat08': array([24959.        ,   342.27900949]),\n",
       " 'rajat09': array([31588.      ,   527.843927]),\n",
       " 'rajat10': array([38989.        ,   565.63443188]),\n",
       " 'c-59': array([219611.        ,    644.76449967]),\n",
       " 'dixmaanl': array([96659.        ,   773.97636963]),\n",
       " 'dtoc': array([34070.        ,   455.78493876]),\n",
       " 'ex3sta1': array([181041.        ,   1269.80213683]),\n",
       " 'c-62': array([258803.        ,    643.02697936]),\n",
       " 'c-64': array([328471.        ,    663.40610326]),\n",
       " 'c-68': array([250547.        ,    813.90092868]),\n",
       " 'c-71': array([391333.        ,    885.82184056]),\n",
       " 'c-72': array([311590.        ,   1007.87740527])}"
      ]
     },
     "execution_count": 8,
     "metadata": {},
     "output_type": "execute_result"
    }
   ],
   "source": [
    "result_dict"
   ]
  },
  {
   "cell_type": "code",
   "execution_count": null,
   "id": "d592b1be-e41f-4139-b44b-a320eb53a20e",
   "metadata": {},
   "outputs": [],
   "source": []
  }
 ],
 "metadata": {
  "kernelspec": {
   "display_name": "Python [conda env:ML_maxcut]",
   "language": "python",
   "name": "conda-env-ML_maxcut-py"
  },
  "language_info": {
   "codemirror_mode": {
    "name": "ipython",
    "version": 3
   },
   "file_extension": ".py",
   "mimetype": "text/x-python",
   "name": "python",
   "nbconvert_exporter": "python",
   "pygments_lexer": "ipython3",
   "version": "3.11.5"
  }
 },
 "nbformat": 4,
 "nbformat_minor": 5
}
